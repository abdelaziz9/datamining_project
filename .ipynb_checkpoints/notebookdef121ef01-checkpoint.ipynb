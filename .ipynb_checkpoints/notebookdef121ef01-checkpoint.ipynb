{
 "cells": [
  {
   "cell_type": "code",
   "execution_count": null,
   "metadata": {
    "_cell_guid": "b1076dfc-b9ad-4769-8c92-a6c4dae69d19",
    "_uuid": "8f2839f25d086af736a60e9eeb907d3b93b6e0e5",
    "execution": {
     "iopub.execute_input": "2021-06-08T21:58:07.962935Z",
     "iopub.status.busy": "2021-06-08T21:58:07.962186Z",
     "iopub.status.idle": "2021-06-08T21:58:07.974459Z",
     "shell.execute_reply": "2021-06-08T21:58:07.972556Z",
     "shell.execute_reply.started": "2021-06-08T21:58:07.962784Z"
    }
   },
   "outputs": [],
   "source": [
    "\n",
    "import numpy as np # linear algebra\n",
    "import pandas as pd # data processing, CSV file I/O (e.g. pd.read_csv)\n",
    "\n",
    "\n",
    "import os\n",
    "for dirname, _, filenames in os.walk('/kaggle/input'):\n",
    "    for filename in filenames:\n",
    "        print(os.path.join(dirname, filename))\n",
    "\n"
   ]
  },
  {
   "cell_type": "markdown",
   "metadata": {},
   "source": [
    "Load the data"
   ]
  },
  {
   "cell_type": "code",
   "execution_count": null,
   "metadata": {
    "execution": {
     "iopub.execute_input": "2021-06-08T22:51:59.62695Z",
     "iopub.status.busy": "2021-06-08T22:51:59.626552Z",
     "iopub.status.idle": "2021-06-08T22:51:59.643939Z",
     "shell.execute_reply": "2021-06-08T22:51:59.643094Z",
     "shell.execute_reply.started": "2021-06-08T22:51:59.626919Z"
    }
   },
   "outputs": [],
   "source": [
    "train = pd.read_csv('/kaggle/input/titanic/train.csv', na_values='NAN')\n",
    "train.head(10)\n",
    "ageMean = round(train.Age.mean())\n",
    "train.Age.fillna(ageMean , inplace= True)\n"
   ]
  },
  {
   "cell_type": "code",
   "execution_count": null,
   "metadata": {
    "execution": {
     "iopub.execute_input": "2021-06-08T23:05:14.942769Z",
     "iopub.status.busy": "2021-06-08T23:05:14.942396Z",
     "iopub.status.idle": "2021-06-08T23:05:14.956409Z",
     "shell.execute_reply": "2021-06-08T23:05:14.955634Z",
     "shell.execute_reply.started": "2021-06-08T23:05:14.942738Z"
    }
   },
   "outputs": [],
   "source": [
    "test = pd.read_csv('/kaggle/input/titanic/test.csv')\n",
    "test.head()\n",
    "ageMeantest = round(test.Age.mean())\n",
    "test.Age.fillna(ageMeantest , inplace= True)\n",
    "test.Age.head(15)"
   ]
  },
  {
   "cell_type": "markdown",
   "metadata": {},
   "source": [
    "Import the model we are going to use which is RandomForestRegressor"
   ]
  },
  {
   "cell_type": "code",
   "execution_count": null,
   "metadata": {
    "execution": {
     "iopub.execute_input": "2021-06-08T23:06:18.254409Z",
     "iopub.status.busy": "2021-06-08T23:06:18.253668Z",
     "iopub.status.idle": "2021-06-08T23:06:18.258254Z",
     "shell.execute_reply": "2021-06-08T23:06:18.25744Z",
     "shell.execute_reply.started": "2021-06-08T23:06:18.25432Z"
    }
   },
   "outputs": [],
   "source": [
    "from sklearn.ensemble import RandomForestRegressor\n"
   ]
  },
  {
   "cell_type": "markdown",
   "metadata": {},
   "source": [
    "extraxt survived values and put it in Y\n"
   ]
  },
  {
   "cell_type": "code",
   "execution_count": null,
   "metadata": {
    "execution": {
     "iopub.execute_input": "2021-06-08T23:09:52.13682Z",
     "iopub.status.busy": "2021-06-08T23:09:52.13647Z",
     "iopub.status.idle": "2021-06-08T23:09:52.146023Z",
     "shell.execute_reply": "2021-06-08T23:09:52.145028Z",
     "shell.execute_reply.started": "2021-06-08T23:09:52.136791Z"
    }
   },
   "outputs": [],
   "source": [
    "y = train.Survived\n",
    "y.head()\n"
   ]
  },
  {
   "cell_type": "markdown",
   "metadata": {},
   "source": [
    "Extract features and put it in variable x\n",
    ", Choosing features was hard , i tried age but it wasn't effective it didn't gave me values less than 70% , so i had to choose sex feature , but the problem is i can't use it because it's a string , so i used the pd_getdummies function which bassically change sex column values from (male, female) into (1,0)`"
   ]
  },
  {
   "cell_type": "code",
   "execution_count": null,
   "metadata": {
    "execution": {
     "iopub.execute_input": "2021-06-08T23:41:38.532165Z",
     "iopub.status.busy": "2021-06-08T23:41:38.531773Z",
     "iopub.status.idle": "2021-06-08T23:41:38.55292Z",
     "shell.execute_reply": "2021-06-08T23:41:38.551089Z",
     "shell.execute_reply.started": "2021-06-08T23:41:38.532131Z"
    }
   },
   "outputs": [],
   "source": [
    "features = [\"Pclass\",\"Sex\",\"SibSp\",\"Parch\"]\n",
    "x= pd.get_dummies(train[features])\n",
    "x.head(10)"
   ]
  },
  {
   "cell_type": "markdown",
   "metadata": {},
   "source": [
    "Extract features from test data sett"
   ]
  },
  {
   "cell_type": "code",
   "execution_count": null,
   "metadata": {
    "execution": {
     "iopub.execute_input": "2021-06-08T23:42:03.894871Z",
     "iopub.status.busy": "2021-06-08T23:42:03.894521Z",
     "iopub.status.idle": "2021-06-08T23:42:03.914151Z",
     "shell.execute_reply": "2021-06-08T23:42:03.912717Z",
     "shell.execute_reply.started": "2021-06-08T23:42:03.894834Z"
    }
   },
   "outputs": [],
   "source": [
    "testx = pd.get_dummies(test[features])\n",
    "testx.head(10)"
   ]
  },
  {
   "cell_type": "markdown",
   "metadata": {},
   "source": [
    "Building model using randomforestregressor with maximum depth of 5 , and then roudning the values and changing them into integer, i tried to submit wihout rounding values and converting them into integer i got 0% score, so i had to do this step"
   ]
  },
  {
   "cell_type": "code",
   "execution_count": null,
   "metadata": {
    "execution": {
     "iopub.execute_input": "2021-06-08T23:42:53.160688Z",
     "iopub.status.busy": "2021-06-08T23:42:53.160041Z",
     "iopub.status.idle": "2021-06-08T23:42:53.365266Z",
     "shell.execute_reply": "2021-06-08T23:42:53.364321Z",
     "shell.execute_reply.started": "2021-06-08T23:42:53.160635Z"
    }
   },
   "outputs": [],
   "source": [
    "model = RandomForestRegressor(max_depth = 5, random_state=1)\n",
    "\n",
    "model.fit(x,y)\n",
    "\n",
    "prediction = model.predict(testx)\n",
    "integerprediction = prediction.round().astype(int)\n",
    "integerprediction\n",
    "output = pd.DataFrame({'PassengerId': test.PassengerId, 'Survived': integerprediction})\n",
    "output.to_csv('my_submission.csv', index=False)"
   ]
  },
  {
   "cell_type": "markdown",
   "metadata": {},
   "source": [
    "There were no need to split the data to training and test data as they already gave me test data and i had up to 10 submissions to test my data ,so it was more benificial to take the whole sett as a training sett instead of splitting it into 80% and 20%"
   ]
  }
 ],
 "metadata": {
  "kernelspec": {
   "display_name": "Python 3",
   "language": "python",
   "name": "python3"
  },
  "language_info": {
   "codemirror_mode": {
    "name": "ipython",
    "version": 3
   },
   "file_extension": ".py",
   "mimetype": "text/x-python",
   "name": "python",
   "nbconvert_exporter": "python",
   "pygments_lexer": "ipython3",
   "version": "3.8.3"
  }
 },
 "nbformat": 4,
 "nbformat_minor": 4
}
